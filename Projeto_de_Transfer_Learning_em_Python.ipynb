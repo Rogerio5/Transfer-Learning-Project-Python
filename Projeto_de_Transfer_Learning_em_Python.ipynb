{
  "nbformat": 4,
  "nbformat_minor": 0,
  "metadata": {
    "colab": {
      "provenance": [],
      "authorship_tag": "ABX9TyPR1vl1Crin4jfDohoL9FQY",
      "include_colab_link": true
    },
    "kernelspec": {
      "name": "python3",
      "display_name": "Python 3"
    },
    "language_info": {
      "name": "python"
    }
  },
  "cells": [
    {
      "cell_type": "markdown",
      "metadata": {
        "id": "view-in-github",
        "colab_type": "text"
      },
      "source": [
        "<a href=\"https://colab.research.google.com/github/Rogerio5/Transfer-Learning-Project-Python/blob/main/Projeto_de_Transfer_Learning_em_Python.ipynb\" target=\"_parent\"><img src=\"https://colab.research.google.com/assets/colab-badge.svg\" alt=\"Open In Colab\"/></a>"
      ]
    },
    {
      "cell_type": "markdown",
      "metadata": {
        "id": "ccb6a47e"
      },
      "source": [
        "```\n",
        "/dataset/\n",
        "    /train/\n",
        "        /carro/\n",
        "            carro1.jpg\n",
        "            carro2.jpg\n",
        "            ...\n",
        "        /moto/\n",
        "            moto1.jpg\n",
        "            moto2.jpg\n",
        "            ...\n",
        "    /validation/\n",
        "        /carro/\n",
        "            carro_val1.jpg\n",
        "            ...\n",
        "        /moto/\n",
        "            moto_val1.jpg\n",
        "            ..."
      ]
    },
    {
      "cell_type": "code",
      "metadata": {
        "colab": {
          "base_uri": "https://localhost:8080/"
        },
        "id": "ff08ab34",
        "outputId": "e03b2367-cf5e-4c14-89f0-4fc132873844"
      },
      "source": [
        "import os\n",
        "\n",
        "# Pastas de treino\n",
        "os.makedirs('dataset/train/carro', exist_ok=True)\n",
        "os.makedirs('dataset/train/moto', exist_ok=True)\n",
        "\n",
        "# Pastas de validação\n",
        "os.makedirs('dataset/validation/carro', exist_ok=True)\n",
        "os.makedirs('dataset/validation/moto', exist_ok=True)\n",
        "\n",
        "print(\"Estrutura de pastas criada com sucesso!\")"
      ],
      "execution_count": 83,
      "outputs": [
        {
          "output_type": "stream",
          "name": "stdout",
          "text": [
            "Estrutura de pastas criada com sucesso!\n"
          ]
        }
      ]
    },
    {
      "cell_type": "code",
      "source": [
        "import tensorflow as tf  # Biblioteca principal para deep learning\n",
        "import matplotlib.pyplot as plt  # Para visualizar imagens e gráficos\n",
        "import numpy as np  # Para manipulação de arrays\n",
        "import os  # Para lidar com diretórios e arquivos\n"
      ],
      "metadata": {
        "id": "Tjb7zsaQAkn-"
      },
      "execution_count": 84,
      "outputs": []
    },
    {
      "cell_type": "code",
      "source": [
        "import os\n",
        "import shutil\n",
        "\n",
        "# Cria as pastas de validação se não existirem\n",
        "os.makedirs('dataset/validation/carro', exist_ok=True)\n",
        "os.makedirs('dataset/validation/moto', exist_ok=True)\n",
        "\n",
        "# Lista arquivos .jpg no /content\n",
        "arquivos = [f for f in os.listdir('/content') if f.endswith('.jpg')]\n",
        "\n",
        "# Contadores\n",
        "contador_carro = 1\n",
        "contador_moto = 1\n",
        "\n",
        "# Mover e renomear\n",
        "for arquivo in arquivos:\n",
        "    caminho_origem = os.path.join('/content', arquivo)\n",
        "    if 'carro' in arquivo.lower():\n",
        "        novo_nome = f'carro_val_{contador_carro:03d}.jpg'\n",
        "        caminho_destino = os.path.join('dataset/validation/carro', novo_nome)\n",
        "        shutil.move(caminho_origem, caminho_destino)\n",
        "        contador_carro += 1\n",
        "    elif 'moto' in arquivo.lower():\n",
        "        novo_nome = f'moto_val_{contador_moto:03d}.jpg'\n",
        "        caminho_destino = os.path.join('dataset/validation/moto', novo_nome)\n",
        "        shutil.move(caminho_origem, caminho_destino)\n",
        "        contador_moto += 1\n",
        "\n",
        "print(\"Imagens de validação movidas com sucesso!\")\n"
      ],
      "metadata": {
        "colab": {
          "base_uri": "https://localhost:8080/"
        },
        "id": "di2lXAW-_6Sb",
        "outputId": "97f3965a-3a98-4c40-a33b-840dbe28c0b2"
      },
      "execution_count": 85,
      "outputs": [
        {
          "output_type": "stream",
          "name": "stdout",
          "text": [
            "Imagens de validação movidas com sucesso!\n"
          ]
        }
      ]
    },
    {
      "cell_type": "code",
      "source": [
        "train_ds = tf.keras.preprocessing.image_dataset_from_directory(\n",
        "    'dataset/train',\n",
        "    image_size=(224, 224),\n",
        "    batch_size=32\n",
        ")\n",
        "\n",
        "val_ds = tf.keras.preprocessing.image_dataset_from_directory(\n",
        "    'dataset/validation',\n",
        "    image_size=(224, 224),\n",
        "    batch_size=32\n",
        ")\n"
      ],
      "metadata": {
        "colab": {
          "base_uri": "https://localhost:8080/"
        },
        "id": "xg2lkskdBHPM",
        "outputId": "ff2ae403-6d00-4f3d-8e9c-47328ecea35b"
      },
      "execution_count": 86,
      "outputs": [
        {
          "output_type": "stream",
          "name": "stdout",
          "text": [
            "Found 6 files belonging to 2 classes.\n",
            "Found 6 files belonging to 2 classes.\n"
          ]
        }
      ]
    },
    {
      "cell_type": "code",
      "source": [
        "AUTOTUNE = tf.data.AUTOTUNE\n",
        "train_ds = train_ds.cache().shuffle(1000).prefetch(buffer_size=AUTOTUNE)\n",
        "val_ds = val_ds.cache().prefetch(buffer_size=AUTOTUNE)\n"
      ],
      "metadata": {
        "id": "3yOVUqbmBPER"
      },
      "execution_count": 87,
      "outputs": []
    },
    {
      "cell_type": "code",
      "source": [
        "base_model = tf.keras.applications.MobileNetV2(\n",
        "    input_shape=(224, 224, 3),\n",
        "    include_top=False,\n",
        "    weights='imagenet'\n",
        ")\n",
        "base_model.trainable = False\n",
        "\n",
        "model = tf.keras.Sequential([\n",
        "    base_model,\n",
        "    tf.keras.layers.GlobalAveragePooling2D(),\n",
        "    tf.keras.layers.Dense(2, activation='softmax')\n",
        "])\n"
      ],
      "metadata": {
        "id": "t-92tcFCBUJ-"
      },
      "execution_count": 88,
      "outputs": []
    },
    {
      "cell_type": "code",
      "source": [
        "model.compile(\n",
        "    optimizer='adam',\n",
        "    loss='sparse_categorical_crossentropy',\n",
        "    metrics=['accuracy']\n",
        ")\n"
      ],
      "metadata": {
        "id": "GeztlHTGBcL1"
      },
      "execution_count": 89,
      "outputs": []
    },
    {
      "cell_type": "code",
      "source": [
        "import os\n",
        "from pathlib import Path\n",
        "from PIL import Image\n",
        "\n",
        "ROOTS = [\"dataset/train\", \"dataset/validation\"]\n",
        "ALLOWED = {\".jpg\", \".jpeg\", \".png\", \".bmp\", \".gif\"}\n",
        "\n",
        "QUARANTINE = Path(\"dataset/_quarentena\")\n",
        "QUARANTINE.mkdir(parents=True, exist_ok=True)\n",
        "\n",
        "def is_hidden(p: Path):\n",
        "    return p.name.startswith(\".\") or p.name.startswith(\"._\")\n",
        "\n",
        "def validate_image(path: Path) -> bool:\n",
        "    try:\n",
        "        with Image.open(path) as im:\n",
        "            im.verify()  # checa integridade\n",
        "        # Reabre para garantir que consegue carregar de fato\n",
        "        with Image.open(path) as im:\n",
        "            im.convert(\"RGB\")\n",
        "        return True\n",
        "    except Exception:\n",
        "        return False\n",
        "\n",
        "def convert_to_jpg(src: Path) -> Path | None:\n",
        "    try:\n",
        "        with Image.open(src) as im:\n",
        "            rgb = im.convert(\"RGB\")\n",
        "            dst = src.with_suffix(\".jpg\")\n",
        "            rgb.save(dst, format=\"JPEG\", quality=95)\n",
        "        src.unlink(missing_ok=True)\n",
        "        return dst\n",
        "    except Exception:\n",
        "        return None\n",
        "\n",
        "problems = []\n",
        "\n",
        "for root in ROOTS:\n",
        "    for p in Path(root).rglob(\"*\"):\n",
        "        if p.is_dir():\n",
        "            continue\n",
        "        if is_hidden(p) or p.suffix.lower() not in (ALLOWED | {\".webp\", \".jfif\"}):\n",
        "            # tenta converter webp/jfif; senão manda pra quarentena\n",
        "            if p.suffix.lower() in {\".webp\", \".jfif\"}:\n",
        "                newp = convert_to_jpg(p)\n",
        "                if newp is None or not validate_image(newp):\n",
        "                    newp = newp or p\n",
        "                    newp.rename(QUARANTINE / newp.name)\n",
        "                    problems.append(f\"Não foi possível converter: {p}\")\n",
        "                else:\n",
        "                    print(f\"Convertido para JPG: {newp}\")\n",
        "            else:\n",
        "                # extensão não suportada\n",
        "                target = QUARANTINE / p.name\n",
        "                p.rename(target)\n",
        "                problems.append(f\"Extensão não suportada movida: {target}\")\n",
        "            continue\n",
        "\n",
        "        # extensão suportada — validar conteúdo\n",
        "        if not validate_image(p):\n",
        "            target = QUARANTINE / p.name\n",
        "            p.rename(target)\n",
        "            problems.append(f\"Arquivo corrompido movido: {target}\")\n",
        "\n",
        "print(\"Limpeza concluída!\")\n",
        "if problems:\n",
        "    print(\"Itens problemáticos:\")\n",
        "    for line in problems:\n",
        "        print(\" -\", line)\n",
        "else:\n",
        "    print(\"Nenhum problema detectado.\")\n"
      ],
      "metadata": {
        "colab": {
          "base_uri": "https://localhost:8080/"
        },
        "id": "oidF3hrpCBUP",
        "outputId": "56a8b766-343f-4aa1-8d1f-c186a3c2c41e"
      },
      "execution_count": 90,
      "outputs": [
        {
          "output_type": "stream",
          "name": "stdout",
          "text": [
            "Limpeza concluída!\n",
            "Nenhum problema detectado.\n"
          ]
        }
      ]
    },
    {
      "cell_type": "code",
      "source": [
        "from pathlib import Path\n",
        "\n",
        "for split in [\"dataset/train\", \"dataset/validation\"]:\n",
        "    print(f\"\\n📂 {split}\")\n",
        "    for path in Path(split).rglob(\"*\"):\n",
        "        if path.is_file():\n",
        "            print(\" -\", path.name)\n"
      ],
      "metadata": {
        "colab": {
          "base_uri": "https://localhost:8080/"
        },
        "id": "nE0KdWavCXdb",
        "outputId": "f25fc188-6d6a-4c25-e7e5-254031eb3cc0"
      },
      "execution_count": 91,
      "outputs": [
        {
          "output_type": "stream",
          "name": "stdout",
          "text": [
            "\n",
            "📂 dataset/train\n",
            " - moto2.jpg\n",
            " - moto1.jpg\n",
            " - moto.jpg\n",
            " - carro1.jpg\n",
            " - carro.jpg\n",
            " - carro2.jpg\n",
            "\n",
            "📂 dataset/validation\n",
            " - moto2.jpg\n",
            " - moto1.jpg\n",
            " - moto.jpg\n",
            " - carro1.jpg\n",
            " - carro.jpg\n",
            " - carro2.jpg\n"
          ]
        }
      ]
    },
    {
      "cell_type": "code",
      "source": [
        "from pathlib import Path\n",
        "from PIL import Image\n",
        "\n",
        "ROOTS = [\"dataset/train\", \"dataset/validation\"]\n",
        "\n",
        "for root in ROOTS:\n",
        "    for p in Path(root).rglob(\"*.png\"):\n",
        "        try:\n",
        "            img = Image.open(p).convert(\"RGB\")\n",
        "            new_path = p.with_suffix(\".jpg\")\n",
        "            img.save(new_path, \"JPEG\", quality=95)\n",
        "            p.unlink()  # remove o PNG antigo\n",
        "            print(f\"Convertido: {p} → {new_path}\")\n",
        "        except Exception as e:\n",
        "            print(f\"Falha ao converter {p}: {e}\")\n"
      ],
      "metadata": {
        "id": "pS6kHsIeCryK"
      },
      "execution_count": 92,
      "outputs": []
    },
    {
      "cell_type": "code",
      "source": [
        "# Recarregar datasets\n",
        "train_ds = tf.keras.preprocessing.image_dataset_from_directory(\n",
        "    'dataset/train',\n",
        "    image_size=(224, 224),\n",
        "    batch_size=32\n",
        ")\n",
        "val_ds = tf.keras.preprocessing.image_dataset_from_directory(\n",
        "    'dataset/validation',\n",
        "    image_size=(224, 224),\n",
        "    batch_size=32\n",
        ")\n",
        "\n",
        "# Otimização\n",
        "AUTOTUNE = tf.data.AUTOTUNE\n",
        "train_ds = train_ds.cache().shuffle(1000).prefetch(AUTOTUNE)\n",
        "val_ds = val_ds.cache().prefetch(AUTOTUNE)\n",
        "\n",
        "# Treinar\n",
        "history = model.fit(train_ds, validation_data=val_ds, epochs=10)\n"
      ],
      "metadata": {
        "colab": {
          "base_uri": "https://localhost:8080/"
        },
        "id": "00A17EcFC8d1",
        "outputId": "e4892211-82ea-4e81-859a-c0f865677cf5"
      },
      "execution_count": 93,
      "outputs": [
        {
          "output_type": "stream",
          "name": "stdout",
          "text": [
            "Found 6 files belonging to 2 classes.\n",
            "Found 6 files belonging to 2 classes.\n",
            "Epoch 1/10\n",
            "\u001b[1m1/1\u001b[0m \u001b[32m━━━━━━━━━━━━━━━━━━━━\u001b[0m\u001b[37m\u001b[0m \u001b[1m8s\u001b[0m 8s/step - accuracy: 0.5000 - loss: 0.7078 - val_accuracy: 0.6667 - val_loss: 0.5984\n",
            "Epoch 2/10\n",
            "\u001b[1m1/1\u001b[0m \u001b[32m━━━━━━━━━━━━━━━━━━━━\u001b[0m\u001b[37m\u001b[0m \u001b[1m0s\u001b[0m 413ms/step - accuracy: 0.6667 - loss: 0.5984 - val_accuracy: 0.6667 - val_loss: 0.5118\n",
            "Epoch 3/10\n",
            "\u001b[1m1/1\u001b[0m \u001b[32m━━━━━━━━━━━━━━━━━━━━\u001b[0m\u001b[37m\u001b[0m \u001b[1m0s\u001b[0m 392ms/step - accuracy: 0.6667 - loss: 0.5118 - val_accuracy: 0.8333 - val_loss: 0.4337\n",
            "Epoch 4/10\n",
            "\u001b[1m1/1\u001b[0m \u001b[32m━━━━━━━━━━━━━━━━━━━━\u001b[0m\u001b[37m\u001b[0m \u001b[1m0s\u001b[0m 379ms/step - accuracy: 0.8333 - loss: 0.4337 - val_accuracy: 1.0000 - val_loss: 0.3635\n",
            "Epoch 5/10\n",
            "\u001b[1m1/1\u001b[0m \u001b[32m━━━━━━━━━━━━━━━━━━━━\u001b[0m\u001b[37m\u001b[0m \u001b[1m1s\u001b[0m 659ms/step - accuracy: 1.0000 - loss: 0.3635 - val_accuracy: 1.0000 - val_loss: 0.3037\n",
            "Epoch 6/10\n",
            "\u001b[1m1/1\u001b[0m \u001b[32m━━━━━━━━━━━━━━━━━━━━\u001b[0m\u001b[37m\u001b[0m \u001b[1m1s\u001b[0m 579ms/step - accuracy: 1.0000 - loss: 0.3037 - val_accuracy: 1.0000 - val_loss: 0.2545\n",
            "Epoch 7/10\n",
            "\u001b[1m1/1\u001b[0m \u001b[32m━━━━━━━━━━━━━━━━━━━━\u001b[0m\u001b[37m\u001b[0m \u001b[1m1s\u001b[0m 661ms/step - accuracy: 1.0000 - loss: 0.2545 - val_accuracy: 1.0000 - val_loss: 0.2140\n",
            "Epoch 8/10\n",
            "\u001b[1m1/1\u001b[0m \u001b[32m━━━━━━━━━━━━━━━━━━━━\u001b[0m\u001b[37m\u001b[0m \u001b[1m1s\u001b[0m 698ms/step - accuracy: 1.0000 - loss: 0.2140 - val_accuracy: 1.0000 - val_loss: 0.1801\n",
            "Epoch 9/10\n",
            "\u001b[1m1/1\u001b[0m \u001b[32m━━━━━━━━━━━━━━━━━━━━\u001b[0m\u001b[37m\u001b[0m \u001b[1m1s\u001b[0m 608ms/step - accuracy: 1.0000 - loss: 0.1801 - val_accuracy: 1.0000 - val_loss: 0.1517\n",
            "Epoch 10/10\n",
            "\u001b[1m1/1\u001b[0m \u001b[32m━━━━━━━━━━━━━━━━━━━━\u001b[0m\u001b[37m\u001b[0m \u001b[1m1s\u001b[0m 976ms/step - accuracy: 1.0000 - loss: 0.1517 - val_accuracy: 1.0000 - val_loss: 0.1282\n"
          ]
        }
      ]
    },
    {
      "cell_type": "code",
      "source": [
        "import matplotlib.pyplot as plt\n",
        "\n",
        "acc = history.history['accuracy']\n",
        "val_acc = history.history['val_accuracy']\n",
        "loss = history.history['loss']\n",
        "val_loss = history.history['val_loss']\n",
        "\n",
        "epochs_range = range(len(acc))\n",
        "\n",
        "plt.figure(figsize=(8, 6))\n",
        "plt.subplot(1, 2, 1)\n",
        "plt.plot(epochs_range, acc, label='Treino')\n",
        "plt.plot(epochs_range, val_acc, label='Validação')\n",
        "plt.legend()\n",
        "plt.title('Acurácia')\n",
        "\n",
        "plt.subplot(1, 2, 2)\n",
        "plt.plot(epochs_range, loss, label='Treino')\n",
        "plt.plot(epochs_range, val_loss, label='Validação')\n",
        "plt.legend()\n",
        "plt.title('Perda')\n",
        "plt.show()\n"
      ],
      "metadata": {
        "colab": {
          "base_uri": "https://localhost:8080/",
          "height": 549
        },
        "id": "TukVwJiDFkSa",
        "outputId": "9f320d7a-0d89-4fe6-b2cd-6ea33b1208c4"
      },
      "execution_count": 94,
      "outputs": [
        {
          "output_type": "display_data",
          "data": {
            "text/plain": [
              "<Figure size 800x600 with 2 Axes>"
            ],
            "image/png": "[encoded data removed]"
          },
          "metadata": {}
        }
      ]
    },
    {
      "cell_type": "code",
      "source": [
        "from tensorflow.keras import layers\n",
        "\n",
        "# Camadas de aumento de dados\n",
        "data_augmentation = tf.keras.Sequential([\n",
        "    layers.RandomFlip(\"horizontal\"),           # Inverter horizontalmente\n",
        "    layers.RandomRotation(0.1),                 # Rotacionar levemente\n",
        "    layers.RandomZoom(0.1),                     # Zoom in/out\n",
        "    layers.RandomContrast(0.1),                 # Ajuste de contraste\n",
        "])\n"
      ],
      "metadata": {
        "id": "x-TMGwQrGCmN"
      },
      "execution_count": 95,
      "outputs": []
    },
    {
      "cell_type": "code",
      "source": [
        "base_model = tf.keras.applications.MobileNetV2(\n",
        "    input_shape=(224, 224, 3),\n",
        "    include_top=False,\n",
        "    weights='imagenet'\n",
        ")\n",
        "base_model.trainable = False\n",
        "\n",
        "model = tf.keras.Sequential([\n",
        "    data_augmentation,                          # Aumento de dados primeiro\n",
        "    tf.keras.layers.Rescaling(1./255),           # Normalização\n",
        "    base_model,\n",
        "    tf.keras.layers.GlobalAveragePooling2D(),\n",
        "    tf.keras.layers.Dense(2, activation='softmax')\n",
        "])\n",
        "\n",
        "model.compile(optimizer='adam',\n",
        "              loss='sparse_categorical_crossentropy',\n",
        "              metrics=['accuracy'])\n"
      ],
      "metadata": {
        "id": "48DtHQr_GHc7"
      },
      "execution_count": 96,
      "outputs": []
    },
    {
      "cell_type": "code",
      "source": [
        "history = model.fit(\n",
        "    train_ds,\n",
        "    validation_data=val_ds,\n",
        "    epochs=15\n",
        ")\n"
      ],
      "metadata": {
        "colab": {
          "base_uri": "https://localhost:8080/"
        },
        "id": "8HjZO9mLGMoX",
        "outputId": "0e754c3b-eb55-460f-d109-d3af872b12f4"
      },
      "execution_count": 97,
      "outputs": [
        {
          "output_type": "stream",
          "name": "stdout",
          "text": [
            "Epoch 1/15\n",
            "\u001b[1m1/1\u001b[0m \u001b[32m━━━━━━━━━━━━━━━━━━━━\u001b[0m\u001b[37m\u001b[0m \u001b[1m9s\u001b[0m 9s/step - accuracy: 0.6667 - loss: 0.4819 - val_accuracy: 1.0000 - val_loss: 0.3768\n",
            "Epoch 2/15\n",
            "\u001b[1m1/1\u001b[0m \u001b[32m━━━━━━━━━━━━━━━━━━━━\u001b[0m\u001b[37m\u001b[0m \u001b[1m1s\u001b[0m 815ms/step - accuracy: 0.8333 - loss: 0.3547 - val_accuracy: 0.8333 - val_loss: 0.3553\n",
            "Epoch 3/15\n",
            "\u001b[1m1/1\u001b[0m \u001b[32m━━━━━━━━━━━━━━━━━━━━\u001b[0m\u001b[37m\u001b[0m \u001b[1m1s\u001b[0m 999ms/step - accuracy: 1.0000 - loss: 0.1868 - val_accuracy: 0.8333 - val_loss: 0.3415\n",
            "Epoch 4/15\n",
            "\u001b[1m1/1\u001b[0m \u001b[32m━━━━━━━━━━━━━━━━━━━━\u001b[0m\u001b[37m\u001b[0m \u001b[1m1s\u001b[0m 540ms/step - accuracy: 1.0000 - loss: 0.2885 - val_accuracy: 0.8333 - val_loss: 0.3121\n",
            "Epoch 5/15\n",
            "\u001b[1m1/1\u001b[0m \u001b[32m━━━━━━━━━━━━━━━━━━━━\u001b[0m\u001b[37m\u001b[0m \u001b[1m1s\u001b[0m 715ms/step - accuracy: 1.0000 - loss: 0.2306 - val_accuracy: 0.8333 - val_loss: 0.2634\n",
            "Epoch 6/15\n",
            "\u001b[1m1/1\u001b[0m \u001b[32m━━━━━━━━━━━━━━━━━━━━\u001b[0m\u001b[37m\u001b[0m \u001b[1m0s\u001b[0m 454ms/step - accuracy: 1.0000 - loss: 0.1093 - val_accuracy: 1.0000 - val_loss: 0.2179\n",
            "Epoch 7/15\n",
            "\u001b[1m1/1\u001b[0m \u001b[32m━━━━━━━━━━━━━━━━━━━━\u001b[0m\u001b[37m\u001b[0m \u001b[1m0s\u001b[0m 448ms/step - accuracy: 1.0000 - loss: 0.1079 - val_accuracy: 1.0000 - val_loss: 0.1793\n",
            "Epoch 8/15\n",
            "\u001b[1m1/1\u001b[0m \u001b[32m━━━━━━━━━━━━━━━━━━━━\u001b[0m\u001b[37m\u001b[0m \u001b[1m1s\u001b[0m 631ms/step - accuracy: 1.0000 - loss: 0.1130 - val_accuracy: 1.0000 - val_loss: 0.1460\n",
            "Epoch 9/15\n",
            "\u001b[1m1/1\u001b[0m \u001b[32m━━━━━━━━━━━━━━━━━━━━\u001b[0m\u001b[37m\u001b[0m \u001b[1m0s\u001b[0m 447ms/step - accuracy: 1.0000 - loss: 0.0478 - val_accuracy: 1.0000 - val_loss: 0.1198\n",
            "Epoch 10/15\n",
            "\u001b[1m1/1\u001b[0m \u001b[32m━━━━━━━━━━━━━━━━━━━━\u001b[0m\u001b[37m\u001b[0m \u001b[1m0s\u001b[0m 492ms/step - accuracy: 1.0000 - loss: 0.0699 - val_accuracy: 1.0000 - val_loss: 0.0990\n",
            "Epoch 11/15\n",
            "\u001b[1m1/1\u001b[0m \u001b[32m━━━━━━━━━━━━━━━━━━━━\u001b[0m\u001b[37m\u001b[0m \u001b[1m0s\u001b[0m 436ms/step - accuracy: 1.0000 - loss: 0.0379 - val_accuracy: 1.0000 - val_loss: 0.0833\n",
            "Epoch 12/15\n",
            "\u001b[1m1/1\u001b[0m \u001b[32m━━━━━━━━━━━━━━━━━━━━\u001b[0m\u001b[37m\u001b[0m \u001b[1m1s\u001b[0m 650ms/step - accuracy: 1.0000 - loss: 0.0588 - val_accuracy: 1.0000 - val_loss: 0.0706\n",
            "Epoch 13/15\n",
            "\u001b[1m1/1\u001b[0m \u001b[32m━━━━━━━━━━━━━━━━━━━━\u001b[0m\u001b[37m\u001b[0m \u001b[1m0s\u001b[0m 448ms/step - accuracy: 1.0000 - loss: 0.0473 - val_accuracy: 1.0000 - val_loss: 0.0608\n",
            "Epoch 14/15\n",
            "\u001b[1m1/1\u001b[0m \u001b[32m━━━━━━━━━━━━━━━━━━━━\u001b[0m\u001b[37m\u001b[0m \u001b[1m0s\u001b[0m 470ms/step - accuracy: 1.0000 - loss: 0.0321 - val_accuracy: 1.0000 - val_loss: 0.0529\n",
            "Epoch 15/15\n",
            "\u001b[1m1/1\u001b[0m \u001b[32m━━━━━━━━━━━━━━━━━━━━\u001b[0m\u001b[37m\u001b[0m \u001b[1m1s\u001b[0m 555ms/step - accuracy: 1.0000 - loss: 0.0200 - val_accuracy: 1.0000 - val_loss: 0.0466\n"
          ]
        }
      ]
    },
    {
      "cell_type": "code",
      "source": [
        "loss, acc = model.evaluate(val_ds, verbose=0)\n",
        "print(f\"Acurácia validação: {acc*100:.2f}% | Loss validação: {loss:.4f}\")\n"
      ],
      "metadata": {
        "colab": {
          "base_uri": "https://localhost:8080/"
        },
        "id": "R_Pdcfi9HgDQ",
        "outputId": "fb874cc9-3985-48b3-b852-23aeb788287a"
      },
      "execution_count": 98,
      "outputs": [
        {
          "output_type": "stream",
          "name": "stdout",
          "text": [
            "Acurácia validação: 100.00% | Loss validação: 0.0466\n"
          ]
        }
      ]
    },
    {
      "cell_type": "code",
      "source": [
        "import matplotlib.pyplot as plt\n",
        "\n",
        "plt.figure(figsize=(10,4))\n",
        "plt.subplot(1,2,1)\n",
        "plt.plot(history.history['loss'], label='treino')\n",
        "plt.plot(history.history['val_loss'], label='val')\n",
        "plt.title('Loss')\n",
        "plt.legend()\n",
        "\n",
        "plt.subplot(1,2,2)\n",
        "plt.plot(history.history['accuracy'], label='treino')\n",
        "plt.plot(history.history['val_accuracy'], label='val')\n",
        "plt.title('Acurácia')\n",
        "plt.legend()\n",
        "plt.tight_layout()\n",
        "plt.show()\n"
      ],
      "metadata": {
        "colab": {
          "base_uri": "https://localhost:8080/",
          "height": 401
        },
        "id": "9ml6PlSOHk87",
        "outputId": "4f3dc12e-5ed6-485b-bc46-a0d1817a7375"
      },
      "execution_count": 99,
      "outputs": [
        {
          "output_type": "display_data",
          "data": {
            "text/plain": [
              "<Figure size 1000x400 with 2 Axes>"
            ],
            "image/png": "[encoded data removed]"
          },
          "metadata": {}
        }
      ]
    },
    {
      "cell_type": "code",
      "source": [
        "# 1) Descongelar parte final da base\n",
        "base_model.trainable = True\n",
        "for layer in base_model.layers[:-20]:\n",
        "    layer.trainable = False\n",
        "\n",
        "# 2) Recompilar com LR menor\n",
        "model.compile(\n",
        "    optimizer=tf.keras.optimizers.Adam(learning_rate=1e-5),\n",
        "    loss='sparse_categorical_crossentropy',\n",
        "    metrics=['accuracy']\n",
        ")\n",
        "\n",
        "# 3) Callbacks úteis\n",
        "es = tf.keras.callbacks.EarlyStopping(\n",
        "    monitor='val_loss', patience=3, restore_best_weights=True\n",
        ")\n",
        "rlr = tf.keras.callbacks.ReduceLROnPlateau(\n",
        "    monitor='val_loss', factor=0.5, patience=2, min_lr=1e-7\n",
        ")\n",
        "\n",
        "# 4) Treinar mais um pouco\n",
        "history_ft = model.fit(\n",
        "    train_ds,\n",
        "    validation_data=val_ds,\n",
        "    epochs=10,\n",
        "    callbacks=[es, rlr]\n",
        ")\n"
      ],
      "metadata": {
        "colab": {
          "base_uri": "https://localhost:8080/"
        },
        "id": "X11xb50EHwJA",
        "outputId": "b9322398-16e7-4eb8-bbf5-88bed849b31b"
      },
      "execution_count": 100,
      "outputs": [
        {
          "output_type": "stream",
          "name": "stdout",
          "text": [
            "Epoch 1/10\n",
            "\u001b[1m1/1\u001b[0m \u001b[32m━━━━━━━━━━━━━━━━━━━━\u001b[0m\u001b[37m\u001b[0m \u001b[1m13s\u001b[0m 13s/step - accuracy: 1.0000 - loss: 0.0783 - val_accuracy: 1.0000 - val_loss: 0.0432 - learning_rate: 1.0000e-05\n",
            "Epoch 2/10\n",
            "\u001b[1m1/1\u001b[0m \u001b[32m━━━━━━━━━━━━━━━━━━━━\u001b[0m\u001b[37m\u001b[0m \u001b[1m1s\u001b[0m 581ms/step - accuracy: 1.0000 - loss: 0.0495 - val_accuracy: 1.0000 - val_loss: 0.0407 - learning_rate: 1.0000e-05\n",
            "Epoch 3/10\n",
            "\u001b[1m1/1\u001b[0m \u001b[32m━━━━━━━━━━━━━━━━━━━━\u001b[0m\u001b[37m\u001b[0m \u001b[1m1s\u001b[0m 588ms/step - accuracy: 1.0000 - loss: 0.0934 - val_accuracy: 1.0000 - val_loss: 0.0381 - learning_rate: 1.0000e-05\n",
            "Epoch 4/10\n",
            "\u001b[1m1/1\u001b[0m \u001b[32m━━━━━━━━━━━━━━━━━━━━\u001b[0m\u001b[37m\u001b[0m \u001b[1m1s\u001b[0m 580ms/step - accuracy: 1.0000 - loss: 0.0574 - val_accuracy: 1.0000 - val_loss: 0.0359 - learning_rate: 1.0000e-05\n",
            "Epoch 5/10\n",
            "\u001b[1m1/1\u001b[0m \u001b[32m━━━━━━━━━━━━━━━━━━━━\u001b[0m\u001b[37m\u001b[0m \u001b[1m1s\u001b[0m 630ms/step - accuracy: 1.0000 - loss: 0.0365 - val_accuracy: 1.0000 - val_loss: 0.0338 - learning_rate: 1.0000e-05\n",
            "Epoch 6/10\n",
            "\u001b[1m1/1\u001b[0m \u001b[32m━━━━━━━━━━━━━━━━━━━━\u001b[0m\u001b[37m\u001b[0m \u001b[1m1s\u001b[0m 1s/step - accuracy: 1.0000 - loss: 0.0626 - val_accuracy: 1.0000 - val_loss: 0.0320 - learning_rate: 1.0000e-05\n",
            "Epoch 7/10\n",
            "\u001b[1m1/1\u001b[0m \u001b[32m━━━━━━━━━━━━━━━━━━━━\u001b[0m\u001b[37m\u001b[0m \u001b[1m1s\u001b[0m 917ms/step - accuracy: 1.0000 - loss: 0.0543 - val_accuracy: 1.0000 - val_loss: 0.0304 - learning_rate: 1.0000e-05\n",
            "Epoch 8/10\n",
            "\u001b[1m1/1\u001b[0m \u001b[32m━━━━━━━━━━━━━━━━━━━━\u001b[0m\u001b[37m\u001b[0m \u001b[1m1s\u001b[0m 902ms/step - accuracy: 1.0000 - loss: 0.0375 - val_accuracy: 1.0000 - val_loss: 0.0290 - learning_rate: 1.0000e-05\n",
            "Epoch 9/10\n",
            "\u001b[1m1/1\u001b[0m \u001b[32m━━━━━━━━━━━━━━━━━━━━\u001b[0m\u001b[37m\u001b[0m \u001b[1m1s\u001b[0m 571ms/step - accuracy: 1.0000 - loss: 0.0454 - val_accuracy: 1.0000 - val_loss: 0.0277 - learning_rate: 1.0000e-05\n",
            "Epoch 10/10\n",
            "\u001b[1m1/1\u001b[0m \u001b[32m━━━━━━━━━━━━━━━━━━━━\u001b[0m\u001b[37m\u001b[0m \u001b[1m1s\u001b[0m 611ms/step - accuracy: 1.0000 - loss: 0.0294 - val_accuracy: 1.0000 - val_loss: 0.0266 - learning_rate: 1.0000e-05\n"
          ]
        }
      ]
    },
    {
      "cell_type": "code",
      "source": [
        "import numpy as np\n",
        "from sklearn.metrics import confusion_matrix, classification_report\n",
        "\n",
        "y_true, y_pred = [], []\n",
        "for images, labels in val_ds:\n",
        "    preds = model.predict(images, verbose=0)\n",
        "    y_true.extend(labels.numpy().tolist())\n",
        "    y_pred.extend(np.argmax(preds, axis=1).tolist())\n",
        "\n",
        "cm = confusion_matrix(y_true, y_pred)\n",
        "print(\"Matriz de confusão:\\n\", cm)\n",
        "\n",
        "# Se seu dataset foi criado com image_dataset_from_directory:\n",
        "class_names = getattr(train_ds, 'class_names', ['Carro','Moto'])\n",
        "print(\"\\nRelatório de classificação:\\n\",\n",
        "      classification_report(y_true, y_pred, target_names=class_names))\n"
      ],
      "metadata": {
        "colab": {
          "base_uri": "https://localhost:8080/"
        },
        "id": "79IyevFzH7NA",
        "outputId": "2b513390-014a-415e-e720-160c504228fa"
      },
      "execution_count": 101,
      "outputs": [
        {
          "output_type": "stream",
          "name": "stdout",
          "text": [
            "Matriz de confusão:\n",
            " [[3 0]\n",
            " [0 3]]\n",
            "\n",
            "Relatório de classificação:\n",
            "               precision    recall  f1-score   support\n",
            "\n",
            "       Carro       1.00      1.00      1.00         3\n",
            "        Moto       1.00      1.00      1.00         3\n",
            "\n",
            "    accuracy                           1.00         6\n",
            "   macro avg       1.00      1.00      1.00         6\n",
            "weighted avg       1.00      1.00      1.00         6\n",
            "\n"
          ]
        }
      ]
    },
    {
      "cell_type": "code",
      "source": [
        "# Modelo\n",
        "model.save('modelo_carro_moto.keras')  # formato recomendado\n",
        "\n",
        "# Rótulos\n",
        "import json\n",
        "labels = getattr(train_ds, 'class_names', ['Carro','Moto'])\n",
        "with open('labels.json', 'w', encoding='utf-8') as f:\n",
        "    json.dump(labels, f, ensure_ascii=False)\n"
      ],
      "metadata": {
        "id": "wJnQBuDOIoun"
      },
      "execution_count": 102,
      "outputs": []
    },
    {
      "cell_type": "code",
      "source": [
        "import tensorflow as tf\n",
        "from tensorflow.keras import layers\n",
        "import numpy as np\n",
        "\n",
        "# 🚦 Reforço de Data Augmentation\n",
        "data_augmentation = tf.keras.Sequential([\n",
        "    layers.RandomFlip(\"horizontal\"),\n",
        "    layers.RandomRotation(0.15),\n",
        "    layers.RandomZoom(0.2),\n",
        "    layers.RandomContrast(0.2)\n",
        "])\n",
        "\n",
        "# ⚖️ Oversampling manual (se desejar reforçar classes específicas)\n",
        "def balance_dataset(dataset):\n",
        "    images, labels = [], []\n",
        "    for imgs, labs in dataset:\n",
        "        images.extend(imgs.numpy())\n",
        "        labels.extend(labs.numpy())\n",
        "    images, labels = np.array(images), np.array(labels)\n",
        "\n",
        "    # Contar exemplos por classe\n",
        "    unique, counts = np.unique(labels, return_counts=True)\n",
        "    max_count = counts.max()\n",
        "\n",
        "    # Reforçar as classes com menos imagens\n",
        "    for cls, count in zip(unique, counts):\n",
        "        if count < max_count:\n",
        "            deficit = max_count - count\n",
        "            idxs = np.where(labels == cls)[0]\n",
        "            extra_imgs = images[idxs][:deficit]\n",
        "            extra_labels = labels[idxs][:deficit]\n",
        "            images = np.concatenate([images, extra_imgs], axis=0)\n",
        "            labels = np.concatenate([labels, extra_labels], axis=0)\n",
        "\n",
        "    # Criar novo dataset balanceado\n",
        "    dataset_balanced = tf.data.Dataset.from_tensor_slices((images, labels))\n",
        "    dataset_balanced = dataset_balanced.shuffle(buffer_size=len(images)).batch(32)\n",
        "    return dataset_balanced\n",
        "\n",
        "train_ds_balanced = balance_dataset(train_ds)\n",
        "\n",
        "# 🔧 Base pré-treinada\n",
        "base_model = tf.keras.applications.MobileNetV2(\n",
        "    input_shape=(224, 224, 3),\n",
        "    include_top=False,\n",
        "    weights='imagenet'\n",
        ")\n",
        "\n",
        "# Fine-tuning: liberar últimas 20 camadas\n",
        "base_model.trainable = True\n",
        "for layer in base_model.layers[:-20]:\n",
        "    layer.trainable = False\n",
        "\n",
        "# 🏗 Montagem do modelo\n",
        "model = tf.keras.Sequential([\n",
        "    data_augmentation,\n",
        "    layers.Rescaling(1./255),\n",
        "    base_model,\n",
        "    layers.GlobalAveragePooling2D(),\n",
        "    layers.Dropout(0.3),\n",
        "    layers.Dense(2, activation='softmax')\n",
        "])\n",
        "\n",
        "model.compile(\n",
        "    optimizer=tf.keras.optimizers.Adam(learning_rate=1e-5),\n",
        "    loss='sparse_categorical_crossentropy',\n",
        "    metrics=['accuracy']\n",
        ")\n",
        "\n",
        "# 📞 Callbacks\n",
        "es = tf.keras.callbacks.EarlyStopping(\n",
        "    monitor='val_loss', patience=3, restore_best_weights=True\n",
        ")\n",
        "rlr = tf.keras.callbacks.ReduceLROnPlateau(\n",
        "    monitor='val_loss', factor=0.5, patience=2, min_lr=1e-7\n",
        ")\n",
        "\n",
        "# 🚀 Treinamento\n",
        "history_ft = model.fit(\n",
        "    train_ds_balanced,\n",
        "    validation_data=val_ds,\n",
        "    epochs=20,\n",
        "    callbacks=[es, rlr]\n",
        ")\n",
        "\n",
        "# 💾 Salvar versão otimizada\n",
        "model.save(\"modelo_carro_moto_otimizado.keras\")\n"
      ],
      "metadata": {
        "colab": {
          "base_uri": "https://localhost:8080/"
        },
        "id": "HhUArMDkJoTv",
        "outputId": "62f919a7-ef50-41b2-a852-4941bc674c39"
      },
      "execution_count": 103,
      "outputs": [
        {
          "output_type": "stream",
          "name": "stdout",
          "text": [
            "Epoch 1/20\n",
            "\u001b[1m1/1\u001b[0m \u001b[32m━━━━━━━━━━━━━━━━━━━━\u001b[0m\u001b[37m\u001b[0m \u001b[1m15s\u001b[0m 15s/step - accuracy: 0.3333 - loss: 1.0293 - val_accuracy: 0.3333 - val_loss: 1.0312 - learning_rate: 1.0000e-05\n",
            "Epoch 2/20\n",
            "\u001b[1m1/1\u001b[0m \u001b[32m━━━━━━━━━━━━━━━━━━━━\u001b[0m\u001b[37m\u001b[0m \u001b[1m1s\u001b[0m 677ms/step - accuracy: 0.6667 - loss: 0.7701 - val_accuracy: 0.3333 - val_loss: 1.0105 - learning_rate: 1.0000e-05\n",
            "Epoch 3/20\n",
            "\u001b[1m1/1\u001b[0m \u001b[32m━━━━━━━━━━━━━━━━━━━━\u001b[0m\u001b[37m\u001b[0m \u001b[1m1s\u001b[0m 627ms/step - accuracy: 0.3333 - loss: 1.0353 - val_accuracy: 0.3333 - val_loss: 0.9882 - learning_rate: 1.0000e-05\n",
            "Epoch 4/20\n",
            "\u001b[1m1/1\u001b[0m \u001b[32m━━━━━━━━━━━━━━━━━━━━\u001b[0m\u001b[37m\u001b[0m \u001b[1m1s\u001b[0m 534ms/step - accuracy: 0.5000 - loss: 1.0456 - val_accuracy: 0.3333 - val_loss: 0.9659 - learning_rate: 1.0000e-05\n",
            "Epoch 5/20\n",
            "\u001b[1m1/1\u001b[0m \u001b[32m━━━━━━━━━━━━━━━━━━━━\u001b[0m\u001b[37m\u001b[0m \u001b[1m1s\u001b[0m 558ms/step - accuracy: 0.3333 - loss: 0.8437 - val_accuracy: 0.3333 - val_loss: 0.9420 - learning_rate: 1.0000e-05\n",
            "Epoch 6/20\n",
            "\u001b[1m1/1\u001b[0m \u001b[32m━━━━━━━━━━━━━━━━━━━━\u001b[0m\u001b[37m\u001b[0m \u001b[1m1s\u001b[0m 523ms/step - accuracy: 0.6667 - loss: 0.7349 - val_accuracy: 0.3333 - val_loss: 0.9183 - learning_rate: 1.0000e-05\n",
            "Epoch 7/20\n",
            "\u001b[1m1/1\u001b[0m \u001b[32m━━━━━━━━━━━━━━━━━━━━\u001b[0m\u001b[37m\u001b[0m \u001b[1m1s\u001b[0m 942ms/step - accuracy: 0.5000 - loss: 0.8251 - val_accuracy: 0.3333 - val_loss: 0.8959 - learning_rate: 1.0000e-05\n",
            "Epoch 8/20\n",
            "\u001b[1m1/1\u001b[0m \u001b[32m━━━━━━━━━━━━━━━━━━━━\u001b[0m\u001b[37m\u001b[0m \u001b[1m1s\u001b[0m 897ms/step - accuracy: 0.3333 - loss: 0.9495 - val_accuracy: 0.3333 - val_loss: 0.8736 - learning_rate: 1.0000e-05\n",
            "Epoch 9/20\n",
            "\u001b[1m1/1\u001b[0m \u001b[32m━━━━━━━━━━━━━━━━━━━━\u001b[0m\u001b[37m\u001b[0m \u001b[1m1s\u001b[0m 1s/step - accuracy: 0.1667 - loss: 1.0758 - val_accuracy: 0.3333 - val_loss: 0.8521 - learning_rate: 1.0000e-05\n",
            "Epoch 10/20\n",
            "\u001b[1m1/1\u001b[0m \u001b[32m━━━━━━━━━━━━━━━━━━━━\u001b[0m\u001b[37m\u001b[0m \u001b[1m1s\u001b[0m 551ms/step - accuracy: 0.6667 - loss: 0.4365 - val_accuracy: 0.3333 - val_loss: 0.8317 - learning_rate: 1.0000e-05\n",
            "Epoch 11/20\n",
            "\u001b[1m1/1\u001b[0m \u001b[32m━━━━━━━━━━━━━━━━━━━━\u001b[0m\u001b[37m\u001b[0m \u001b[1m1s\u001b[0m 532ms/step - accuracy: 0.6667 - loss: 0.5742 - val_accuracy: 0.5000 - val_loss: 0.8123 - learning_rate: 1.0000e-05\n",
            "Epoch 12/20\n",
            "\u001b[1m1/1\u001b[0m \u001b[32m━━━━━━━━━━━━━━━━━━━━\u001b[0m\u001b[37m\u001b[0m \u001b[1m1s\u001b[0m 551ms/step - accuracy: 0.6667 - loss: 0.6535 - val_accuracy: 0.5000 - val_loss: 0.7929 - learning_rate: 1.0000e-05\n",
            "Epoch 13/20\n",
            "\u001b[1m1/1\u001b[0m \u001b[32m━━━━━━━━━━━━━━━━━━━━\u001b[0m\u001b[37m\u001b[0m \u001b[1m1s\u001b[0m 535ms/step - accuracy: 0.8333 - loss: 0.5774 - val_accuracy: 0.6667 - val_loss: 0.7734 - learning_rate: 1.0000e-05\n",
            "Epoch 14/20\n",
            "\u001b[1m1/1\u001b[0m \u001b[32m━━━━━━━━━━━━━━━━━━━━\u001b[0m\u001b[37m\u001b[0m \u001b[1m1s\u001b[0m 551ms/step - accuracy: 0.5000 - loss: 0.6635 - val_accuracy: 0.6667 - val_loss: 0.7542 - learning_rate: 1.0000e-05\n",
            "Epoch 15/20\n",
            "\u001b[1m1/1\u001b[0m \u001b[32m━━━━━━━━━━━━━━━━━━━━\u001b[0m\u001b[37m\u001b[0m \u001b[1m1s\u001b[0m 663ms/step - accuracy: 0.6667 - loss: 0.5964 - val_accuracy: 0.6667 - val_loss: 0.7345 - learning_rate: 1.0000e-05\n",
            "Epoch 16/20\n",
            "\u001b[1m1/1\u001b[0m \u001b[32m━━━━━━━━━━━━━━━━━━━━\u001b[0m\u001b[37m\u001b[0m \u001b[1m1s\u001b[0m 550ms/step - accuracy: 0.8333 - loss: 0.6981 - val_accuracy: 0.6667 - val_loss: 0.7162 - learning_rate: 1.0000e-05\n",
            "Epoch 17/20\n",
            "\u001b[1m1/1\u001b[0m \u001b[32m━━━━━━━━━━━━━━━━━━━━\u001b[0m\u001b[37m\u001b[0m \u001b[1m1s\u001b[0m 541ms/step - accuracy: 0.5000 - loss: 0.8478 - val_accuracy: 0.6667 - val_loss: 0.6979 - learning_rate: 1.0000e-05\n",
            "Epoch 18/20\n",
            "\u001b[1m1/1\u001b[0m \u001b[32m━━━━━━━━━━━━━━━━━━━━\u001b[0m\u001b[37m\u001b[0m \u001b[1m1s\u001b[0m 653ms/step - accuracy: 0.6667 - loss: 0.5108 - val_accuracy: 0.6667 - val_loss: 0.6803 - learning_rate: 1.0000e-05\n",
            "Epoch 19/20\n",
            "\u001b[1m1/1\u001b[0m \u001b[32m━━━━━━━━━━━━━━━━━━━━\u001b[0m\u001b[37m\u001b[0m \u001b[1m1s\u001b[0m 548ms/step - accuracy: 0.5000 - loss: 0.5127 - val_accuracy: 0.6667 - val_loss: 0.6627 - learning_rate: 1.0000e-05\n",
            "Epoch 20/20\n",
            "\u001b[1m1/1\u001b[0m \u001b[32m━━━━━━━━━━━━━━━━━━━━\u001b[0m\u001b[37m\u001b[0m \u001b[1m1s\u001b[0m 692ms/step - accuracy: 0.5000 - loss: 0.6316 - val_accuracy: 0.6667 - val_loss: 0.6454 - learning_rate: 1.0000e-05\n"
          ]
        }
      ]
    },
    {
      "cell_type": "code",
      "source": [
        "import json\n",
        "import smtplib\n",
        "from email.mime.text import MIMEText\n",
        "\n",
        "# ==========================\n",
        "# Configurações do alerta\n",
        "# ==========================\n",
        "LIMITE_ACURACIA = 0.92  # Ajuste conforme desejar\n",
        "EMAIL_REMETENTE = \"seu_email@gmail.com\"\n",
        "EMAIL_DESTINATARIO = \"email_destino@gmail.com\"\n",
        "SENHA_EMAIL = \"sua_senha_app\"  # Use senha de aplicativo segura\n",
        "\n",
        "def enviar_alerta(acuracia, versao):\n",
        "    msg = MIMEText(f\"🚀 Modelo v{versao} atingiu {acuracia*100:.2f}% de acurácia!\")\n",
        "    msg[\"Subject\"] = f\"[ALERTA] Novo recorde no Modelo v{versao}\"\n",
        "    msg[\"From\"] = EMAIL_REMETENTE\n",
        "    msg[\"To\"] = EMAIL_DESTINATARIO\n",
        "\n",
        "    with smtplib.SMTP_SSL(\"smtp.gmail.com\", 465) as server:\n",
        "        server.login(EMAIL_REMETENTE, SENHA_EMAIL)\n",
        "        server.sendmail(EMAIL_REMETENTE, EMAIL_DESTINATARIO, msg.as_string())\n",
        "\n",
        "# ==========================\n",
        "# Pipeline de monitoramento\n",
        "# ==========================\n",
        "def registrar_resultados(acuracia, precisao, recall, f1, versao):\n",
        "    try:\n",
        "        with open(\"historico_metricas.json\", \"r\") as f:\n",
        "            historico = json.load(f)\n",
        "    except FileNotFoundError:\n",
        "        historico = []\n",
        "\n",
        "    historico.append({\n",
        "        \"versao\": versao,\n",
        "        \"acuracia\": acuracia,\n",
        "        \"precisao\": precisao,\n",
        "        \"recall\": recall,\n",
        "        \"f1_score\": f1\n",
        "    })\n",
        "\n",
        "    with open(\"historico_metricas.json\", \"w\") as f:\n",
        "        json.dump(historico, f, indent=4)\n",
        "\n",
        "    # Checar se bateu recorde\n",
        "    if acuracia >= LIMITE_ACURACIA:\n",
        "        enviar_alerta(acuracia, versao)\n",
        "        print(\"✅ Alerta enviado!\")\n",
        "\n",
        "# ==========================\n",
        "# Exemplo de uso pós-treino\n",
        "# ==========================\n",
        "versao_modelo = 3\n",
        "loss, acc = model.evaluate(val_ds, verbose=0)\n",
        "\n",
        "# Aqui você colocaria os cálculos de precision, recall e f1\n",
        "precision = 0.93\n",
        "recall = 0.91\n",
        "f1 = 0.92\n",
        "\n",
        "registrar_resultados(acc, precision, recall, f1, versao_modelo)\n"
      ],
      "metadata": {
        "id": "W9f2TLgiKNxR"
      },
      "execution_count": 104,
      "outputs": []
    },
    {
      "cell_type": "markdown",
      "source": [],
      "metadata": {
        "id": "cwtyLuFfeuoU"
      }
    },
    {
      "cell_type": "code",
      "source": [
        "import matplotlib.pyplot as plt\n",
        "import seaborn as sns\n",
        "import pandas as pd\n",
        "from sklearn.metrics import confusion_matrix\n",
        "import numpy as np\n",
        "from matplotlib.patches import Patch\n",
        "\n",
        "# Simulação dos dados\n",
        "y_true = ['Carro'] * 50 + ['Moto'] * 50\n",
        "y_pred = ['Carro'] * 45 + ['Moto'] * 5 + ['Carro'] * 10 + ['Moto'] * 40\n",
        "\n",
        "# Matriz de confusão\n",
        "cm = confusion_matrix(y_true, y_pred, labels=['Carro', 'Moto'])\n",
        "\n",
        "# Calcular porcentagem\n",
        "total = cm.sum()\n",
        "percent_cm = cm / total * 100\n",
        "\n",
        "# Anotações: valor absoluto + porcentagem\n",
        "annot = np.empty_like(cm).astype(str)\n",
        "for i in range(cm.shape[0]):\n",
        "    for j in range(cm.shape[1]):\n",
        "        annot[i, j] = f\"{cm[i, j]}\\n({percent_cm[i, j]:.1f}%)\"\n",
        "\n",
        "# Calcular acurácia\n",
        "accuracy = (cm[0, 0] + cm[1, 1]) / total * 100\n",
        "\n",
        "# Classificação de desempenho\n",
        "if accuracy < 60:\n",
        "    performance = \"Crítico\"\n",
        "elif accuracy < 75:\n",
        "    performance = \"Atenção\"\n",
        "elif accuracy < 90:\n",
        "    performance = \"Bom\"\n",
        "else:\n",
        "    performance = \"Excelente\"\n",
        "\n",
        "# Cores para os níveis\n",
        "performance_colors = {\n",
        "    \"Crítico\": \"#d73027\",      # Vermelho\n",
        "    \"Atenção\": \"#fee08b\",      # Amarelo\n",
        "    \"Bom\": \"#a6d96a\",          # Verde claro\n",
        "    \"Excelente\": \"#1a9850\"     # Verde escuro\n",
        "}\n",
        "\n",
        "# Função que define a cor de cada célula com base na porcentagem\n",
        "def get_color_matrix(percent_matrix):\n",
        "    color_matrix = np.empty(percent_matrix.shape, dtype=object)\n",
        "    for i in range(percent_matrix.shape[0]):\n",
        "        for j in range(percent_matrix.shape[1]):\n",
        "            val = percent_matrix[i, j]\n",
        "            if val >= 40:\n",
        "                color_matrix[i, j] = performance_colors[\"Excelente\"]\n",
        "            elif val >= 25:\n",
        "                color_matrix[i, j] = performance_colors[\"Bom\"]\n",
        "            elif val >= 10:\n",
        "                color_matrix[i, j] = performance_colors[\"Atenção\"]\n",
        "            else:\n",
        "                color_matrix[i, j] = performance_colors[\"Crítico\"]\n",
        "    return color_matrix\n",
        "\n",
        "# Obter a matriz de cores por célula\n",
        "cell_colors = get_color_matrix(percent_cm)\n",
        "\n",
        "# Criar figura\n",
        "fig, ax = plt.subplots(figsize=(8, 6))\n",
        "\n",
        "# Heatmap base (cores serão sobrescritas)\n",
        "sns.heatmap(percent_cm, annot=annot, fmt='', cbar=False,\n",
        "            xticklabels=['Carro', 'Moto'], yticklabels=['Carro', 'Moto'],\n",
        "            annot_kws={\"size\": 12}, linewidths=0.5, linecolor='gray',\n",
        "            square=True, ax=ax, cmap=None)\n",
        "\n",
        "# Aplicar cores manualmente em cada célula\n",
        "for i in range(cm.shape[0]):\n",
        "    for j in range(cm.shape[1]):\n",
        "        ax.add_patch(plt.Rectangle((j, i), 1, 1, fill=True, color=cell_colors[i, j],\n",
        "                                   linewidth=0))\n",
        "\n",
        "# Ajustes dos eixos e título\n",
        "ax.set_ylabel('Classe Verdadeira')\n",
        "ax.set_xlabel('Classe Prevista')\n",
        "ax.set_title('Matriz de Confusão - Carro vs Moto', fontsize=14)\n",
        "\n",
        "# Legenda lateral das cores\n",
        "legend_elements = [\n",
        "    Patch(facecolor=performance_colors[\"Excelente\"], label='Excelente'),\n",
        "    Patch(facecolor=performance_colors[\"Bom\"], label='Bom'),\n",
        "    Patch(facecolor=performance_colors[\"Atenção\"], label='Atenção'),\n",
        "    Patch(facecolor=performance_colors[\"Crítico\"], label='Crítico'),\n",
        "]\n",
        "ax.legend(handles=legend_elements, title='Desempenho', bbox_to_anchor=(1.02, 1), loc='upper left')\n",
        "\n",
        "# Resultado final (porcentagem + desempenho)\n",
        "plt.figtext(0.5, -0.05, f\"Acurácia Final: {accuracy:.1f}% - {performance}\",\n",
        "            fontsize=12, ha='center', color=performance_colors[performance])\n",
        "\n",
        "plt.tight_layout()\n",
        "plt.show()\n",
        "\n",
        "# Gráfico de métricas por classe\n",
        "metrics = pd.DataFrame({\n",
        "    'Classe': ['Carro', 'Moto'],\n",
        "    'Precisão': [0.818182, 0.888889],\n",
        "    'Recall': [0.90, 0.80],\n",
        "    'F1-Score': [0.857143, 0.842105]\n",
        "})\n",
        "\n",
        "metrics.set_index('Classe').plot(kind='bar', figsize=(6, 4), colormap=\"Set2\")\n",
        "plt.ylim(0, 1)\n",
        "plt.title('Métricas por Classe')\n",
        "plt.ylabel('Valor')\n",
        "plt.tight_layout()\n",
        "plt.show()\n"
      ],
      "metadata": {
        "colab": {
          "base_uri": "https://localhost:8080/",
          "height": 1000
        },
        "id": "XhG6MVOnu6dO",
        "outputId": "9bbb8065-be7f-4793-8c95-6cc6e21cc973"
      },
      "execution_count": 105,
      "outputs": [
        {
          "output_type": "display_data",
          "data": {
            "text/plain": [
              "<Figure size 800x600 with 1 Axes>"
            ],
            "image/png": "[encoded data removed]"
          },
          "metadata": {}
        },
        {
          "output_type": "display_data",
          "data": {
            "text/plain": [
              "<Figure size 600x400 with 1 Axes>"
            ],
            "image/png": "[encoded data removed]"
          },
          "metadata": {}
        }
      ]
    },
    {
      "cell_type": "code",
      "source": [
        "import os\n",
        "\n",
        "os.makedirs(\"resultados\", exist_ok=True)  # Cria a pasta se não existir\n"
      ],
      "metadata": {
        "id": "9RGNnSVNPP1W"
      },
      "execution_count": 123,
      "outputs": []
    },
    {
      "cell_type": "code",
      "source": [
        "os.makedirs(\"resultados\", exist_ok=True)\n",
        "\n",
        "plt.savefig(\"resultados/matriz_confusao.png\", dpi=300, bbox_inches='tight')\n",
        "plt.savefig(\"resultados/metricas_por_classe.png\", dpi=300, bbox_inches='tight')\n"
      ],
      "metadata": {
        "colab": {
          "base_uri": "https://localhost:8080/",
          "height": 34
        },
        "id": "bY6qoO0_Pnoo",
        "outputId": "98f511c9-c8c4-4f12-cc79-961a48a9a1b3"
      },
      "execution_count": 124,
      "outputs": [
        {
          "output_type": "display_data",
          "data": {
            "text/plain": [
              "<Figure size 640x480 with 0 Axes>"
            ]
          },
          "metadata": {}
        }
      ]
    },
    {
      "cell_type": "code",
      "source": [
        "plt.savefig('matriz_confusao.png', dpi=300)\n",
        "plt.savefig('metricas_por_classe.png', dpi=300)\n"
      ],
      "metadata": {
        "colab": {
          "base_uri": "https://localhost:8080/",
          "height": 34
        },
        "id": "BKyukoGm4yIl",
        "outputId": "b3492f30-ec55-4b2f-8642-591ce02ada22"
      },
      "execution_count": 106,
      "outputs": [
        {
          "output_type": "display_data",
          "data": {
            "text/plain": [
              "<Figure size 640x480 with 0 Axes>"
            ]
          },
          "metadata": {}
        }
      ]
    },
    {
      "cell_type": "code",
      "source": [
        "from google.colab import files\n",
        "import os\n",
        "\n",
        "# Baixar matriz\n",
        "if os.path.exists('matriz_confusao.png'):\n",
        "    files.download('matriz_confusao.png')\n",
        "\n",
        "# Baixar métricas\n",
        "if os.path.exists('metricas_por_classe.png'):\n",
        "    files.download('metricas_por_classe.png')\n"
      ],
      "metadata": {
        "colab": {
          "base_uri": "https://localhost:8080/",
          "height": 17
        },
        "id": "dQSFZJ5b44rX",
        "outputId": "6ae40d8f-fb83-4687-816d-6b9b13658477"
      },
      "execution_count": 119,
      "outputs": [
        {
          "output_type": "display_data",
          "data": {
            "text/plain": [
              "<IPython.core.display.Javascript object>"
            ],
            "application/javascript": [
              "\n",
              "    async function download(id, filename, size) {\n",
              "      if (!google.colab.kernel.accessAllowed) {\n",
              "        return;\n",
              "      }\n",
              "      const div = document.createElement('div');\n",
              "      const label = document.createElement('label');\n",
              "      label.textContent = `Downloading \"${filename}\": `;\n",
              "      div.appendChild(label);\n",
              "      const progress = document.createElement('progress');\n",
              "      progress.max = size;\n",
              "      div.appendChild(progress);\n",
              "      document.body.appendChild(div);\n",
              "\n",
              "      const buffers = [];\n",
              "      let downloaded = 0;\n",
              "\n",
              "      const channel = await google.colab.kernel.comms.open(id);\n",
              "      // Send a message to notify the kernel that we're ready.\n",
              "      channel.send({})\n",
              "\n",
              "      for await (const message of channel.messages) {\n",
              "        // Send a message to notify the kernel that we're ready.\n",
              "        channel.send({})\n",
              "        if (message.buffers) {\n",
              "          for (const buffer of message.buffers) {\n",
              "            buffers.push(buffer);\n",
              "            downloaded += buffer.byteLength;\n",
              "            progress.value = downloaded;\n",
              "          }\n",
              "        }\n",
              "      }\n",
              "      const blob = new Blob(buffers, {type: 'application/binary'});\n",
              "      const a = document.createElement('a');\n",
              "      a.href = window.URL.createObjectURL(blob);\n",
              "      a.download = filename;\n",
              "      div.appendChild(a);\n",
              "      a.click();\n",
              "      div.remove();\n",
              "    }\n",
              "  "
            ]
          },
          "metadata": {}
        },
        {
          "output_type": "display_data",
          "data": {
            "text/plain": [
              "<IPython.core.display.Javascript object>"
            ],
            "application/javascript": [
              "download(\"download_a13a4e5a-ebb4-4e29-8aac-a9ef7b393f53\", \"matriz_confusao.png\", 14191)"
            ]
          },
          "metadata": {}
        },
        {
          "output_type": "display_data",
          "data": {
            "text/plain": [
              "<IPython.core.display.Javascript object>"
            ],
            "application/javascript": [
              "\n",
              "    async function download(id, filename, size) {\n",
              "      if (!google.colab.kernel.accessAllowed) {\n",
              "        return;\n",
              "      }\n",
              "      const div = document.createElement('div');\n",
              "      const label = document.createElement('label');\n",
              "      label.textContent = `Downloading \"${filename}\": `;\n",
              "      div.appendChild(label);\n",
              "      const progress = document.createElement('progress');\n",
              "      progress.max = size;\n",
              "      div.appendChild(progress);\n",
              "      document.body.appendChild(div);\n",
              "\n",
              "      const buffers = [];\n",
              "      let downloaded = 0;\n",
              "\n",
              "      const channel = await google.colab.kernel.comms.open(id);\n",
              "      // Send a message to notify the kernel that we're ready.\n",
              "      channel.send({})\n",
              "\n",
              "      for await (const message of channel.messages) {\n",
              "        // Send a message to notify the kernel that we're ready.\n",
              "        channel.send({})\n",
              "        if (message.buffers) {\n",
              "          for (const buffer of message.buffers) {\n",
              "            buffers.push(buffer);\n",
              "            downloaded += buffer.byteLength;\n",
              "            progress.value = downloaded;\n",
              "          }\n",
              "        }\n",
              "      }\n",
              "      const blob = new Blob(buffers, {type: 'application/binary'});\n",
              "      const a = document.createElement('a');\n",
              "      a.href = window.URL.createObjectURL(blob);\n",
              "      a.download = filename;\n",
              "      div.appendChild(a);\n",
              "      a.click();\n",
              "      div.remove();\n",
              "    }\n",
              "  "
            ]
          },
          "metadata": {}
        },
        {
          "output_type": "display_data",
          "data": {
            "text/plain": [
              "<IPython.core.display.Javascript object>"
            ],
            "application/javascript": [
              "download(\"download_ffb16b69-e2a8-490c-bf35-3dead2307901\", \"metricas_por_classe.png\", 14191)"
            ]
          },
          "metadata": {}
        }
      ]
    }
  ]
}